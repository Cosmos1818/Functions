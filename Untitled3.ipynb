{
  "nbformat": 4,
  "nbformat_minor": 0,
  "metadata": {
    "colab": {
      "name": "Untitled3.ipynb",
      "provenance": []
    },
    "kernelspec": {
      "name": "python3",
      "display_name": "Python 3"
    },
    "language_info": {
      "name": "python"
    }
  },
  "cells": [
    {
      "cell_type": "code",
      "execution_count": null,
      "metadata": {
        "id": "ZFNvV4Jpo8eW"
      },
      "outputs": [],
      "source": [
        "# a = [9,0,0,0,]\n",
        "# b = [3,3,3,3]\n",
        "# for a in range(10):\n",
        "#     print(a)\n",
        "\n",
        "\n",
        "# for x in range(1,13):\n",
        "#     print(\"Table of\",x)\n",
        "#     for y in range(1,13):\n",
        "#         print(x,\" * \",y,\" = \",x*y)\n",
        "#     print(\"\\n\")\n",
        "\n",
        "\n",
        "\n",
        "\n",
        "\n",
        "# a = 3 \n",
        "# b = \"asda\" \n",
        "# c = 'asd' \n",
        "# d = True \n",
        "# e = 3.6 \n",
        "# print(a,b,c,d,e)\n",
        "\n",
        "\n",
        "\n",
        "# a = \"Zayyan\" \n",
        "# b = \"Usmani\" \n",
        "# print(a+\" \"+b)\n",
        "\n",
        "\n",
        "\n",
        "\n",
        "print(\"Enter your name\") \n",
        "name = input() \n",
        "print(\"Your name is \"+name)\n"
      ]
    }
  ]
}